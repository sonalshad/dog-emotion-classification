{
 "cells": [
  {
   "cell_type": "code",
   "execution_count": 1,
   "metadata": {},
   "outputs": [],
   "source": [
    "import os\n",
    "from models import *\n",
    "from data import * \n",
    "from train_eval import * \n"
   ]
  },
  {
   "cell_type": "code",
   "execution_count": 2,
   "metadata": {},
   "outputs": [],
   "source": [
    "import warnings\n",
    "warnings.filterwarnings(\"ignore\")"
   ]
  },
  {
   "cell_type": "markdown",
   "metadata": {},
   "source": [
    "## Import Data"
   ]
  },
  {
   "cell_type": "code",
   "execution_count": 3,
   "metadata": {},
   "outputs": [],
   "source": [
    "PATH = '/home/sshad/hw/duplicate/final/data/dogs/'\n",
    "TRAIN_PATH = PATH + 'dog_train_resized'\n",
    "TRAIN_LABELS= PATH + 'dog_train_labels.csv'\n",
    "VAL_PATH = PATH + 'dog_val_resized'\n",
    "VAL_LABELS = PATH + 'dog_val_labels.csv'\n",
    "TEST_PATH = PATH + 'dog_test_resized'\n",
    "TEST_LABELS = PATH + 'dog_test_labels.csv'"
   ]
  },
  {
   "cell_type": "code",
   "execution_count": 4,
   "metadata": {},
   "outputs": [],
   "source": [
    "train = DogsDataset(path=TRAIN_PATH, label_csv=TRAIN_LABELS)\n",
    "valid = DogsDataset(path=VAL_PATH, label_csv=VAL_LABELS)\n",
    "test  = DogsDataset(path=TEST_PATH, label_csv=TEST_LABELS)"
   ]
  },
  {
   "cell_type": "code",
   "execution_count": 5,
   "metadata": {},
   "outputs": [],
   "source": [
    "BATCH_SIZE = 64"
   ]
  },
  {
   "cell_type": "code",
   "execution_count": 6,
   "metadata": {},
   "outputs": [],
   "source": [
    "train_dl = DataLoader(train, BATCH_SIZE, shuffle=True)\n",
    "val_dl = DataLoader(valid, BATCH_SIZE)\n",
    "test_dl = DataLoader(test, BATCH_SIZE)"
   ]
  },
  {
   "cell_type": "markdown",
   "metadata": {},
   "source": [
    "## Model Training"
   ]
  },
  {
   "cell_type": "code",
   "execution_count": 7,
   "metadata": {},
   "outputs": [],
   "source": [
    "loss = nn.CrossEntropyLoss()"
   ]
  },
  {
   "cell_type": "markdown",
   "metadata": {},
   "source": [
    "### Resnet34"
   ]
  },
  {
   "cell_type": "markdown",
   "metadata": {},
   "source": [
    "- later experiment with learning rates/ weight decay"
   ]
  },
  {
   "cell_type": "code",
   "execution_count": 8,
   "metadata": {},
   "outputs": [
    {
     "name": "stdout",
     "output_type": "stream",
     "text": [
      "Epoch 1/5\n"
     ]
    },
    {
     "name": "stderr",
     "output_type": "stream",
     "text": [
      "Training: 100%|██████████| 172/172 [00:27<00:00,  6.31it/s]\n",
      "Validation: 100%|██████████| 57/57 [00:09<00:00,  5.73it/s]\n"
     ]
    },
    {
     "name": "stdout",
     "output_type": "stream",
     "text": [
      "Train Loss: 0.4749, Val Loss: 0.4522, Val Acc: 78.32%\n",
      "Epoch 2/5\n"
     ]
    },
    {
     "name": "stderr",
     "output_type": "stream",
     "text": [
      "Training: 100%|██████████| 172/172 [00:28<00:00,  6.03it/s]\n",
      "Validation: 100%|██████████| 57/57 [00:09<00:00,  6.08it/s]\n"
     ]
    },
    {
     "name": "stdout",
     "output_type": "stream",
     "text": [
      "Train Loss: 0.3534, Val Loss: 0.4252, Val Acc: 78.99%\n",
      "Epoch 3/5\n"
     ]
    },
    {
     "name": "stderr",
     "output_type": "stream",
     "text": [
      "Training: 100%|██████████| 172/172 [00:28<00:00,  6.09it/s]\n",
      "Validation: 100%|██████████| 57/57 [00:09<00:00,  6.28it/s]\n"
     ]
    },
    {
     "name": "stdout",
     "output_type": "stream",
     "text": [
      "Train Loss: 0.3276, Val Loss: 0.4138, Val Acc: 80.11%\n",
      "Epoch 4/5\n"
     ]
    },
    {
     "name": "stderr",
     "output_type": "stream",
     "text": [
      "Training: 100%|██████████| 172/172 [00:27<00:00,  6.19it/s]\n",
      "Validation: 100%|██████████| 57/57 [00:08<00:00,  6.38it/s]\n"
     ]
    },
    {
     "name": "stdout",
     "output_type": "stream",
     "text": [
      "Train Loss: 0.3062, Val Loss: 0.4720, Val Acc: 79.33%\n",
      "Epoch 5/5\n"
     ]
    },
    {
     "name": "stderr",
     "output_type": "stream",
     "text": [
      "Training: 100%|██████████| 172/172 [00:28<00:00,  6.07it/s]\n",
      "Validation: 100%|██████████| 57/57 [00:08<00:00,  6.34it/s]\n"
     ]
    },
    {
     "name": "stdout",
     "output_type": "stream",
     "text": [
      "Train Loss: 0.2936, Val Loss: 0.4442, Val Acc: 80.38%\n"
     ]
    }
   ],
   "source": [
    "resnet34 = ResNet(version='resnet34')\n",
    "optim_res34 = torch.optim.Adam(resnet34.parameters())\n",
    "res34_results = train_model(resnet34, train_dl, val_dl, loss, optimizer=optim_res34)\n",
    "res34_evals = evaluate_model(resnet34, val_dl)"
   ]
  },
  {
   "cell_type": "markdown",
   "metadata": {},
   "source": [
    "### Resnet50"
   ]
  },
  {
   "cell_type": "code",
   "execution_count": 12,
   "metadata": {},
   "outputs": [
    {
     "name": "stdout",
     "output_type": "stream",
     "text": [
      "Epoch 1/5\n"
     ]
    },
    {
     "name": "stderr",
     "output_type": "stream",
     "text": [
      "Training: 100%|██████████| 172/172 [00:31<00:00,  5.45it/s]\n",
      "Validation: 100%|██████████| 57/57 [00:10<00:00,  5.65it/s]\n"
     ]
    },
    {
     "name": "stdout",
     "output_type": "stream",
     "text": [
      "Train Loss: 0.4780, Val Loss: 0.4438, Val Acc: 80.66%\n",
      "Epoch 2/5\n"
     ]
    },
    {
     "name": "stderr",
     "output_type": "stream",
     "text": [
      "Training: 100%|██████████| 172/172 [00:31<00:00,  5.42it/s]\n",
      "Validation: 100%|██████████| 57/57 [00:10<00:00,  5.64it/s]\n"
     ]
    },
    {
     "name": "stdout",
     "output_type": "stream",
     "text": [
      "Train Loss: 0.3588, Val Loss: 0.3934, Val Acc: 82.70%\n",
      "Epoch 3/5\n"
     ]
    },
    {
     "name": "stderr",
     "output_type": "stream",
     "text": [
      "Training: 100%|██████████| 172/172 [00:31<00:00,  5.42it/s]\n",
      "Validation: 100%|██████████| 57/57 [00:10<00:00,  5.67it/s]\n"
     ]
    },
    {
     "name": "stdout",
     "output_type": "stream",
     "text": [
      "Train Loss: 0.3182, Val Loss: 0.4019, Val Acc: 81.61%\n",
      "Epoch 4/5\n"
     ]
    },
    {
     "name": "stderr",
     "output_type": "stream",
     "text": [
      "Training: 100%|██████████| 172/172 [00:32<00:00,  5.33it/s]\n",
      "Validation: 100%|██████████| 57/57 [00:09<00:00,  5.70it/s]\n"
     ]
    },
    {
     "name": "stdout",
     "output_type": "stream",
     "text": [
      "Train Loss: 0.2941, Val Loss: 0.3662, Val Acc: 83.31%\n",
      "Epoch 5/5\n"
     ]
    },
    {
     "name": "stderr",
     "output_type": "stream",
     "text": [
      "Training: 100%|██████████| 172/172 [00:32<00:00,  5.33it/s]\n",
      "Validation: 100%|██████████| 57/57 [00:10<00:00,  5.69it/s]\n"
     ]
    },
    {
     "name": "stdout",
     "output_type": "stream",
     "text": [
      "Train Loss: 0.2772, Val Loss: 0.3720, Val Acc: 82.78%\n"
     ]
    }
   ],
   "source": [
    "resnet50 = ResNet() #default is resnet50\n",
    "optim_res50 = torch.optim.Adam(resnet50.parameters())\n",
    "res50_results = train_model(resnet50, train_dl, val_dl, loss, optimizer=optim_res50)\n",
    "res50_evals = evaluate_model(resnet50, val_dl)"
   ]
  },
  {
   "cell_type": "markdown",
   "metadata": {},
   "source": [
    "### vit-DINO-v2"
   ]
  },
  {
   "cell_type": "code",
   "execution_count": 13,
   "metadata": {},
   "outputs": [
    {
     "name": "stdout",
     "output_type": "stream",
     "text": [
      "Epoch 1/5\n"
     ]
    },
    {
     "name": "stderr",
     "output_type": "stream",
     "text": [
      "Training: 100%|██████████| 172/172 [00:34<00:00,  5.01it/s]\n",
      "Validation: 100%|██████████| 57/57 [00:11<00:00,  5.17it/s]\n"
     ]
    },
    {
     "name": "stdout",
     "output_type": "stream",
     "text": [
      "Train Loss: 0.4275, Val Loss: 0.5626, Val Acc: 78.91%\n",
      "Epoch 2/5\n"
     ]
    },
    {
     "name": "stderr",
     "output_type": "stream",
     "text": [
      "Training: 100%|██████████| 172/172 [00:34<00:00,  4.98it/s]\n",
      "Validation: 100%|██████████| 57/57 [00:10<00:00,  5.24it/s]\n"
     ]
    },
    {
     "name": "stdout",
     "output_type": "stream",
     "text": [
      "Train Loss: 0.2935, Val Loss: 0.4365, Val Acc: 79.66%\n",
      "Epoch 3/5\n"
     ]
    },
    {
     "name": "stderr",
     "output_type": "stream",
     "text": [
      "Training: 100%|██████████| 172/172 [00:34<00:00,  4.98it/s]\n",
      "Validation: 100%|██████████| 57/57 [00:10<00:00,  5.21it/s]\n"
     ]
    },
    {
     "name": "stdout",
     "output_type": "stream",
     "text": [
      "Train Loss: 0.2474, Val Loss: 0.4267, Val Acc: 80.22%\n",
      "Epoch 4/5\n"
     ]
    },
    {
     "name": "stderr",
     "output_type": "stream",
     "text": [
      "Training: 100%|██████████| 172/172 [00:35<00:00,  4.83it/s]\n",
      "Validation: 100%|██████████| 57/57 [00:11<00:00,  5.05it/s]\n"
     ]
    },
    {
     "name": "stdout",
     "output_type": "stream",
     "text": [
      "Train Loss: 0.2260, Val Loss: 0.4034, Val Acc: 80.47%\n",
      "Epoch 5/5\n"
     ]
    },
    {
     "name": "stderr",
     "output_type": "stream",
     "text": [
      "Training: 100%|██████████| 172/172 [00:35<00:00,  4.88it/s]\n",
      "Validation: 100%|██████████| 57/57 [00:11<00:00,  5.03it/s]"
     ]
    },
    {
     "name": "stdout",
     "output_type": "stream",
     "text": [
      "Train Loss: 0.2069, Val Loss: 0.4093, Val Acc: 83.31%\n"
     ]
    },
    {
     "name": "stderr",
     "output_type": "stream",
     "text": [
      "\n"
     ]
    },
    {
     "ename": "NameError",
     "evalue": "name 'dinov2_eval' is not defined",
     "output_type": "error",
     "traceback": [
      "\u001b[0;31m---------------------------------------------------------------------------\u001b[0m",
      "\u001b[0;31mNameError\u001b[0m                                 Traceback (most recent call last)",
      "Cell \u001b[0;32mIn[13], line 5\u001b[0m\n\u001b[1;32m      2\u001b[0m optim_dino \u001b[38;5;241m=\u001b[39m torch\u001b[38;5;241m.\u001b[39moptim\u001b[38;5;241m.\u001b[39mAdam(dino\u001b[38;5;241m.\u001b[39mparameters())\n\u001b[1;32m      4\u001b[0m dinov2_results \u001b[38;5;241m=\u001b[39m train_model(dino, train_dl, val_dl, loss, optimizer\u001b[38;5;241m=\u001b[39moptim_dino)\n\u001b[0;32m----> 5\u001b[0m dinov2_eval \u001b[38;5;241m=\u001b[39m evaluate_model(dinov2_eval, val_dl)\n",
      "\u001b[0;31mNameError\u001b[0m: name 'dinov2_eval' is not defined"
     ]
    }
   ],
   "source": [
    "dino = DINOv2()\n",
    "optim_dino = torch.optim.Adam(dino.parameters())\n",
    "\n",
    "dinov2_results = train_model(dino, train_dl, val_dl, loss, optimizer=optim_dino)"
   ]
  },
  {
   "cell_type": "code",
   "execution_count": 17,
   "metadata": {},
   "outputs": [],
   "source": [
    "dinov2_evals = evaluate_model(dino, val_dl)"
   ]
  },
  {
   "cell_type": "code",
   "execution_count": 18,
   "metadata": {},
   "outputs": [],
   "source": [
    "# Save all these dictionaries\n",
    "\n",
    "import pickle\n",
    "\n",
    "\n",
    "with open('res34_training.pkl', 'wb') as f:\n",
    "    pickle.dump(res34_results, f)\n",
    "with open('res34_eval.pkl', 'wb') as f:\n",
    "    pickle.dump(res34_evals, f)\n",
    "\n",
    "with open('res50_training.pkl', 'wb') as f:\n",
    "    pickle.dump(res50_results, f)\n",
    "with open('res50_eval.pkl', 'wb') as f:\n",
    "    pickle.dump(res50_evals, f)\n",
    "\n",
    "with open('dinov2_training.pkl', 'wb') as f:\n",
    "    pickle.dump(dinov2_results, f)\n",
    "with open('dinov2_eval.pkl', 'wb') as f:\n",
    "    pickle.dump(dinov2_evals, f)\n",
    "\n",
    "# with open('saved_dictionary.pkl', 'rb') as f:\n",
    "#     loaded_dict = pickle.load(f)"
   ]
  },
  {
   "cell_type": "markdown",
   "metadata": {},
   "source": [
    "## Model Evaluation"
   ]
  },
  {
   "cell_type": "code",
   "execution_count": null,
   "metadata": {},
   "outputs": [],
   "source": [
    "res34_test = evaluate_model(resnet34, test_dl)\n",
    "res50_test = evaluate_model(resnet50, test_dl)\n",
    "dinov2_test = evaluate_model(dinov2, test_dl)"
   ]
  }
 ],
 "metadata": {
  "kernelspec": {
   "display_name": "Python 3",
   "language": "python",
   "name": "python3"
  },
  "language_info": {
   "codemirror_mode": {
    "name": "ipython",
    "version": 3
   },
   "file_extension": ".py",
   "mimetype": "text/x-python",
   "name": "python",
   "nbconvert_exporter": "python",
   "pygments_lexer": "ipython3",
   "version": "3.11.8"
  }
 },
 "nbformat": 4,
 "nbformat_minor": 2
}
