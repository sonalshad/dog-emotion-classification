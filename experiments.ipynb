{
  "cells": [
    {
      "cell_type": "code",
      "execution_count": 1,
      "metadata": {
        "id": "Yf4TfhV9SZtm"
      },
      "outputs": [],
      "source": [
        "import warnings\n",
        "warnings.filterwarnings(\"ignore\")"
      ]
    },
    {
      "cell_type": "code",
      "execution_count": 2,
      "metadata": {
        "colab": {
          "base_uri": "https://localhost:8080/"
        },
        "id": "WC_RjOCWSfol",
        "outputId": "8aa7f9f3-bb80-4ee9-beca-d579f0e58212"
      },
      "outputs": [],
      "source": [
        "# from google.colab import drive\n",
        "# drive.mount('/content/drive')"
      ]
    },
    {
      "cell_type": "code",
      "execution_count": 3,
      "metadata": {
        "id": "D-trmMvhS2Qf"
      },
      "outputs": [],
      "source": [
        "# !cp '/content/drive/MyDrive/deep_learning_project/dogs/models.py' .\n",
        "# !cp '/content/drive/MyDrive/deep_learning_project/dogs/train_eval.py' .\n",
        "# !cp '/content/drive/MyDrive/deep_learning_project/dogs/data.py' ."
      ]
    },
    {
      "cell_type": "code",
      "execution_count": 4,
      "metadata": {
        "id": "EC0P3TU6TDQ8"
      },
      "outputs": [],
      "source": [
        "import pickle\n",
        "import os\n",
        "from models import *\n",
        "from data import *\n",
        "from train_eval import *\n",
        "from torch.utils.data import Subset\n",
        "import random\n"
      ]
    },
    {
      "cell_type": "markdown",
      "metadata": {
        "id": "NtbMiIE5SZtm"
      },
      "source": [
        "## Import Data"
      ]
    },
    {
      "cell_type": "code",
      "execution_count": 5,
      "metadata": {
        "id": "NuiMaWzJSZtn"
      },
      "outputs": [],
      "source": [
        "PATH = '/home/sshad/hw/duplicate/final/data/dogs/'\n",
        "# PATH = '/content/drive/MyDrive/deep_learning_project/dogs/'\n",
        "\n",
        "\n",
        "TRAIN_PATH = PATH + 'dog_train_resized'\n",
        "TRAIN_LABELS= PATH + 'dog_train_labels.csv'\n",
        "VAL_PATH = PATH + 'dog_val_resized'\n",
        "VAL_LABELS = PATH + 'dog_val_labels.csv'\n",
        "TEST_PATH = PATH + 'dog_test_resized'\n",
        "TEST_LABELS = PATH + 'dog_test_labels.csv'"
      ]
    },
    {
      "cell_type": "code",
      "execution_count": 6,
      "metadata": {
        "id": "WowWSl1VSZtn"
      },
      "outputs": [],
      "source": [
        "train = DogsDataset(path=TRAIN_PATH, label_csv=TRAIN_LABELS)\n",
        "valid = DogsDataset(path=VAL_PATH, label_csv=VAL_LABELS)\n",
        "test  = DogsDataset(path=TEST_PATH, label_csv=TEST_LABELS)"
      ]
    },
    {
      "cell_type": "code",
      "execution_count": 7,
      "metadata": {
        "id": "vsQtDwr0SZto"
      },
      "outputs": [],
      "source": [
        "BATCH_SIZE = 64"
      ]
    },
    {
      "cell_type": "code",
      "execution_count": 8,
      "metadata": {
        "id": "JA189ubwSZto"
      },
      "outputs": [],
      "source": [
        "train_dl = DataLoader(train, BATCH_SIZE, shuffle=True)\n",
        "val_dl = DataLoader(valid, BATCH_SIZE)\n",
        "test_dl = DataLoader(test, BATCH_SIZE)"
      ]
    },
    {
      "cell_type": "markdown",
      "metadata": {},
      "source": [
        "## Model Setup"
      ]
    },
    {
      "cell_type": "code",
      "execution_count": 9,
      "metadata": {},
      "outputs": [],
      "source": [
        "loss = nn.CrossEntropyLoss()"
      ]
    },
    {
      "cell_type": "markdown",
      "metadata": {},
      "source": [
        "## Hyperparameter Search"
      ]
    },
    {
      "cell_type": "code",
      "execution_count": 10,
      "metadata": {},
      "outputs": [],
      "source": [
        "LEARNING_RATES = [1e-4, 1e-3, 1e-2] # 1e-4 is the LR used in the paper\n",
        "WEIGHT_DECAYS = [1e-4, 1e-3, 1e-2]"
      ]
    },
    {
      "cell_type": "markdown",
      "metadata": {},
      "source": [
        "### Generate Subsample of Data"
      ]
    },
    {
      "cell_type": "code",
      "execution_count": 9,
      "metadata": {
        "id": "uXCP0UqqSZto"
      },
      "outputs": [],
      "source": [
        "# Set the desired sample size\n",
        "sample_size = 500\n",
        "\n",
        "# Generate all indices for the dataset\n",
        "all_indices = list(range(len(train)))\n",
        "\n",
        "# Take a random sample of indices\n",
        "sampled_indices = random.sample(all_indices, sample_size)\n",
        "\n",
        "# Create a Subset object with the sampled indices\n",
        "train_sampled_ds = Subset(train, sampled_indices)"
      ]
    },
    {
      "cell_type": "code",
      "execution_count": 10,
      "metadata": {
        "id": "cc5nrmM1SZto"
      },
      "outputs": [],
      "source": [
        "# Generate all indices for the dataset\n",
        "all_indices = list(range(len(valid)))\n",
        "\n",
        "# Take a random sample of indices\n",
        "sampled_indices = random.sample(all_indices, sample_size)\n",
        "\n",
        "# Create a Subset object with the sampled indices\n",
        "val_sampled_ds = Subset(valid, sampled_indices)"
      ]
    },
    {
      "cell_type": "code",
      "execution_count": 11,
      "metadata": {
        "id": "w9pJ_YALSZto"
      },
      "outputs": [],
      "source": [
        "train_dl_sampled = DataLoader(train_sampled_ds, BATCH_SIZE, shuffle=True)\n",
        "val_dl_sampled = DataLoader(val_sampled_ds, BATCH_SIZE)"
      ]
    },
    {
      "cell_type": "markdown",
      "metadata": {
        "id": "5pIu4iEKSZtp"
      },
      "source": [
        "### Resnet34"
      ]
    },
    {
      "cell_type": "code",
      "execution_count": null,
      "metadata": {
        "id": "tzjNodwiSZtp"
      },
      "outputs": [],
      "source": [
        "resnet34 = ResNet(version='resnet34')\n",
        "results_dict_resnet34, results_df = grid_search(resnet34, \n",
        "                                                train_dl_sampled, \n",
        "                                                val_dl_sampled, \n",
        "                                                loss, \n",
        "                                                LEARNING_RATES,\n",
        "                                                WEIGHT_DECAYS)"
      ]
    },
    {
      "cell_type": "markdown",
      "metadata": {
        "id": "rYWxzu9lSZtq"
      },
      "source": [
        "### Resnet50"
      ]
    },
    {
      "cell_type": "code",
      "execution_count": null,
      "metadata": {
        "colab": {
          "base_uri": "https://localhost:8080/",
          "height": 236
        },
        "id": "U2KmVNtoSZtq",
        "outputId": "de9af2a1-f564-42a0-a059-bd53beb20e4f"
      },
      "outputs": [],
      "source": [
        "resnet50 = ResNet() #default is resnet50\n",
        "results_dict_resnet50, results_df_resnet_50 = grid_search(resnet50, \n",
        "                                                          train_dl_sampled, \n",
        "                                                          val_dl_sampled, \n",
        "                                                          loss, \n",
        "                                                          LEARNING_RATES, \n",
        "                                                          WEIGHT_DECAYS)"
      ]
    },
    {
      "cell_type": "markdown",
      "metadata": {},
      "source": [
        "#### Save Experimental Results"
      ]
    },
    {
      "cell_type": "code",
      "execution_count": null,
      "metadata": {
        "id": "dBnuACW9iygA"
      },
      "outputs": [],
      "source": [
        "# output_path = '/content/drive/MyDrive/deep_learning_project/dogs/resnet50_experiments.csv'\n",
        "# results_df_resnet_50.to_csv(output_path, index=False)"
      ]
    },
    {
      "cell_type": "markdown",
      "metadata": {
        "id": "VHQCoNmxSZtq"
      },
      "source": [
        "### vit-DINO-v2"
      ]
    },
    {
      "cell_type": "code",
      "execution_count": null,
      "metadata": {
        "colab": {
          "base_uri": "https://localhost:8080/"
        },
        "id": "T9vzE-I2SZtq",
        "outputId": "89643803-9b4d-4cb0-d784-bb797ae6395b"
      },
      "outputs": [],
      "source": [
        "dino = DINOv2()\n",
        "#optim_dino = torch.optim.Adam(dino.parameters())\n",
        "LEARNING_RATES_DINO = [5e-6,1e-4, 1e-3, 1e-2] # 5e-6 is the LR used in the paper \n",
        "\n",
        "results_dict_dinov2, results_df_dinov2 = grid_search(dino,\n",
        "                                                     train_dl_sampled,\n",
        "                                                     val_dl_sampled,\n",
        "                                                     loss,\n",
        "                                                     LEARNING_RATES_DINO,\n",
        "                                                     WEIGHT_DECAYS)"
      ]
    },
    {
      "cell_type": "markdown",
      "metadata": {},
      "source": [
        "#### Save Experimental Results"
      ]
    },
    {
      "cell_type": "code",
      "execution_count": null,
      "metadata": {
        "id": "n326dZn-lq-h"
      },
      "outputs": [],
      "source": [
        "# output_path = '/content/drive/MyDrive/deep_learning_project/dogs/dinov2_experiments.csv'\n",
        "# results_df_dinov2.to_csv(output_path, index=False)"
      ]
    },
    {
      "cell_type": "markdown",
      "metadata": {
        "id": "ldG4WhIimaXX"
      },
      "source": [
        "## Train Models with Optimized Hyperparameters"
      ]
    },
    {
      "cell_type": "markdown",
      "metadata": {
        "id": "lxGPUWhoQGJd"
      },
      "source": [
        "### RESNET34"
      ]
    },
    {
      "cell_type": "code",
      "execution_count": 11,
      "metadata": {
        "colab": {
          "base_uri": "https://localhost:8080/",
          "height": 408
        },
        "id": "FBFSjrxWmgIN",
        "outputId": "76ab464e-e1e9-404b-b8e0-e3066c8c93d9"
      },
      "outputs": [
        {
          "name": "stdout",
          "output_type": "stream",
          "text": [
            "Epoch 1/25\n"
          ]
        },
        {
          "name": "stderr",
          "output_type": "stream",
          "text": [
            "Training: 100%|██████████| 172/172 [00:28<00:00,  6.13it/s]\n",
            "Validation: 100%|██████████| 57/57 [00:09<00:00,  5.95it/s]\n"
          ]
        },
        {
          "name": "stdout",
          "output_type": "stream",
          "text": [
            "Train Loss: 0.4709, Val Loss: 0.7837, Val Acc: 71.33%\n",
            "Epoch 2/25\n"
          ]
        },
        {
          "name": "stderr",
          "output_type": "stream",
          "text": [
            "Training: 100%|██████████| 172/172 [00:27<00:00,  6.23it/s]\n",
            "Validation: 100%|██████████| 57/57 [00:08<00:00,  6.37it/s]\n"
          ]
        },
        {
          "name": "stdout",
          "output_type": "stream",
          "text": [
            "Train Loss: 0.3320, Val Loss: 0.8736, Val Acc: 71.61%\n",
            "Epoch 3/25\n"
          ]
        },
        {
          "name": "stderr",
          "output_type": "stream",
          "text": [
            "Training: 100%|██████████| 172/172 [00:27<00:00,  6.23it/s]\n",
            "Validation: 100%|██████████| 57/57 [00:08<00:00,  6.39it/s]\n"
          ]
        },
        {
          "name": "stdout",
          "output_type": "stream",
          "text": [
            "Train Loss: 0.3844, Val Loss: 0.7427, Val Acc: 78.02%\n",
            "Epoch 4/25\n"
          ]
        },
        {
          "name": "stderr",
          "output_type": "stream",
          "text": [
            "Training: 100%|██████████| 172/172 [00:27<00:00,  6.24it/s]\n",
            "Validation: 100%|██████████| 57/57 [00:08<00:00,  6.39it/s]\n"
          ]
        },
        {
          "name": "stdout",
          "output_type": "stream",
          "text": [
            "Train Loss: 0.3357, Val Loss: 0.5002, Val Acc: 80.94%\n",
            "Epoch 5/25\n"
          ]
        },
        {
          "name": "stderr",
          "output_type": "stream",
          "text": [
            "Training: 100%|██████████| 172/172 [00:27<00:00,  6.24it/s]\n",
            "Validation: 100%|██████████| 57/57 [00:08<00:00,  6.37it/s]\n"
          ]
        },
        {
          "name": "stdout",
          "output_type": "stream",
          "text": [
            "Train Loss: 0.3248, Val Loss: 0.5111, Val Acc: 80.33%\n",
            "Epoch 6/25\n"
          ]
        },
        {
          "name": "stderr",
          "output_type": "stream",
          "text": [
            "Training: 100%|██████████| 172/172 [00:27<00:00,  6.23it/s]\n",
            "Validation: 100%|██████████| 57/57 [00:08<00:00,  6.42it/s]\n"
          ]
        },
        {
          "name": "stdout",
          "output_type": "stream",
          "text": [
            "Train Loss: 0.2545, Val Loss: 0.4941, Val Acc: 80.50%\n",
            "Epoch 7/25\n"
          ]
        },
        {
          "name": "stderr",
          "output_type": "stream",
          "text": [
            "Training: 100%|██████████| 172/172 [00:27<00:00,  6.23it/s]\n",
            "Validation: 100%|██████████| 57/57 [00:08<00:00,  6.38it/s]\n"
          ]
        },
        {
          "name": "stdout",
          "output_type": "stream",
          "text": [
            "Train Loss: 0.3164, Val Loss: 1.0500, Val Acc: 73.39%\n",
            "Epoch 8/25\n"
          ]
        },
        {
          "name": "stderr",
          "output_type": "stream",
          "text": [
            "Training: 100%|██████████| 172/172 [00:27<00:00,  6.18it/s]\n",
            "Validation: 100%|██████████| 57/57 [00:09<00:00,  6.23it/s]\n"
          ]
        },
        {
          "name": "stdout",
          "output_type": "stream",
          "text": [
            "Train Loss: 0.3195, Val Loss: 0.5483, Val Acc: 78.18%\n",
            "Epoch 9/25\n"
          ]
        },
        {
          "name": "stderr",
          "output_type": "stream",
          "text": [
            "Training: 100%|██████████| 172/172 [00:28<00:00,  6.12it/s]\n",
            "Validation: 100%|██████████| 57/57 [00:08<00:00,  6.34it/s]\n"
          ]
        },
        {
          "name": "stdout",
          "output_type": "stream",
          "text": [
            "Train Loss: 0.3049, Val Loss: 0.7694, Val Acc: 76.73%\n",
            "Early stopping triggered. Training stopped at epoch 9.\n"
          ]
        }
      ],
      "source": [
        "resnet34 = ResNet(version='resnet34')\n",
        "# optimized parameters found via experimentation\n",
        "optim_res34 = torch.optim.Adam(resnet34.parameters(), lr=.01, weight_decay=.0001)\n",
        "res34_results = train_model_with_early_stopping(resnet34,\n",
        "                                                train_dl,\n",
        "                                                val_dl,\n",
        "                                                loss,\n",
        "                                                optimizer=optim_res34,\n",
        "                                                num_epochs= 25,\n",
        "                                                patience = 3)\n",
        "res34_evals = evaluate_model(resnet34, val_dl)"
      ]
    },
    {
      "cell_type": "markdown",
      "metadata": {
        "id": "flp9iN29_WyT"
      },
      "source": [
        "### RESNET50"
      ]
    },
    {
      "cell_type": "code",
      "execution_count": 12,
      "metadata": {
        "colab": {
          "base_uri": "https://localhost:8080/"
        },
        "id": "Vwo9aswwAQFR",
        "outputId": "a7080768-affe-4437-e3a9-545bddab7595"
      },
      "outputs": [
        {
          "name": "stdout",
          "output_type": "stream",
          "text": [
            "Epoch 1/25\n"
          ]
        },
        {
          "name": "stderr",
          "output_type": "stream",
          "text": [
            "Training: 100%|██████████| 172/172 [00:30<00:00,  5.62it/s]\n",
            "Validation: 100%|██████████| 57/57 [00:09<00:00,  5.82it/s]\n"
          ]
        },
        {
          "name": "stdout",
          "output_type": "stream",
          "text": [
            "Train Loss: 0.3926, Val Loss: 0.3826, Val Acc: 82.36%\n",
            "Epoch 2/25\n"
          ]
        },
        {
          "name": "stderr",
          "output_type": "stream",
          "text": [
            "Training: 100%|██████████| 172/172 [00:30<00:00,  5.56it/s]\n",
            "Validation: 100%|██████████| 57/57 [00:09<00:00,  5.83it/s]\n"
          ]
        },
        {
          "name": "stdout",
          "output_type": "stream",
          "text": [
            "Train Loss: 0.2823, Val Loss: 0.3730, Val Acc: 83.20%\n",
            "Epoch 3/25\n"
          ]
        },
        {
          "name": "stderr",
          "output_type": "stream",
          "text": [
            "Training: 100%|██████████| 172/172 [00:31<00:00,  5.54it/s]\n",
            "Validation: 100%|██████████| 57/57 [00:09<00:00,  5.79it/s]\n"
          ]
        },
        {
          "name": "stdout",
          "output_type": "stream",
          "text": [
            "Train Loss: 0.2527, Val Loss: 0.4674, Val Acc: 80.55%\n",
            "Epoch 4/25\n"
          ]
        },
        {
          "name": "stderr",
          "output_type": "stream",
          "text": [
            "Training: 100%|██████████| 172/172 [00:31<00:00,  5.52it/s]\n",
            "Validation: 100%|██████████| 57/57 [00:09<00:00,  5.80it/s]\n"
          ]
        },
        {
          "name": "stdout",
          "output_type": "stream",
          "text": [
            "Train Loss: 0.2421, Val Loss: 0.5620, Val Acc: 78.91%\n",
            "Epoch 5/25\n"
          ]
        },
        {
          "name": "stderr",
          "output_type": "stream",
          "text": [
            "Training: 100%|██████████| 172/172 [00:31<00:00,  5.51it/s]\n",
            "Validation: 100%|██████████| 57/57 [00:09<00:00,  5.81it/s]\n"
          ]
        },
        {
          "name": "stdout",
          "output_type": "stream",
          "text": [
            "Train Loss: 0.2495, Val Loss: 0.3909, Val Acc: 82.59%\n",
            "Early stopping triggered. Training stopped at epoch 5.\n"
          ]
        }
      ],
      "source": [
        "resnet50 = ResNet()\n",
        "optim_res50 = torch.optim.Adam(resnet50.parameters(), lr=.01, weight_decay=.001) # optimized parameters found via experimentation\n",
        "res50_results = train_model_with_early_stopping(resnet50, train_dl, val_dl, loss, optimizer=optim_res50, num_epochs= 25, patience = 3)\n",
        "res50_evals = evaluate_model(resnet50, val_dl)"
      ]
    },
    {
      "cell_type": "markdown",
      "metadata": {
        "id": "UmjKtZEdCC9p"
      },
      "source": [
        "### dinoV2"
      ]
    },
    {
      "cell_type": "code",
      "execution_count": 13,
      "metadata": {
        "colab": {
          "base_uri": "https://localhost:8080/",
          "height": 599,
          "referenced_widgets": [
            "1c9ddfceb3c64aecb1675e6da0f32e0f",
            "239ef24037254618808c2736ff48a5be",
            "f25dc41e24074a73badf3c26906f1fb0",
            "bf96b33c37fd441194c211764d2006da",
            "64aa47dac23b4754bc0c207bab921efc",
            "583a3e6ccebf4c86a79a4a9a32964ed9",
            "38b76a6ec07d442f8823cd576b20d459",
            "e054495b011c4037b5e94629fab731b6",
            "3007932a9a0a4664b3ac7784c05d0ee7",
            "165695f9be4247f590299def25155560",
            "5f84af7aaf80482a82127269de34fa93",
            "22fddbadbb714d76a5bdbb013444f165",
            "332424614d074d5781d307937fce5216",
            "e27fe20541ea486daec5bcc8ef337845",
            "e893cfae6b2c4031a3735d98bc41767a",
            "7a4278451f104821b28c7b361ad40b76",
            "14edf37d3be74f1fac280b3be3163f87",
            "4e61b90e9a434fa9a0c264c402ab8f61",
            "15bda40ada374184835d722f44befa97",
            "11a93f8bc54f41e4add8726a04f07384",
            "d96f86529b964fd7913a865b2670c404",
            "35784ac5e346457eae79433025c3fb21"
          ]
        },
        "id": "OAGMzjt9CGci",
        "outputId": "ed311ea7-618a-419d-afee-0173ad45c78a"
      },
      "outputs": [
        {
          "name": "stdout",
          "output_type": "stream",
          "text": [
            "Epoch 1/25\n"
          ]
        },
        {
          "name": "stderr",
          "output_type": "stream",
          "text": [
            "Training: 100%|██████████| 172/172 [00:33<00:00,  5.08it/s]\n",
            "Validation: 100%|██████████| 57/57 [00:10<00:00,  5.20it/s]\n"
          ]
        },
        {
          "name": "stdout",
          "output_type": "stream",
          "text": [
            "Train Loss: 0.8427, Val Loss: 0.5659, Val Acc: 84.01%\n",
            "Epoch 2/25\n"
          ]
        },
        {
          "name": "stderr",
          "output_type": "stream",
          "text": [
            "Training: 100%|██████████| 172/172 [00:33<00:00,  5.07it/s]\n",
            "Validation: 100%|██████████| 57/57 [00:10<00:00,  5.36it/s]\n"
          ]
        },
        {
          "name": "stdout",
          "output_type": "stream",
          "text": [
            "Train Loss: 0.3242, Val Loss: 0.4674, Val Acc: 82.06%\n",
            "Epoch 3/25\n"
          ]
        },
        {
          "name": "stderr",
          "output_type": "stream",
          "text": [
            "Training: 100%|██████████| 172/172 [00:33<00:00,  5.13it/s]\n",
            "Validation: 100%|██████████| 57/57 [00:11<00:00,  4.95it/s]\n"
          ]
        },
        {
          "name": "stdout",
          "output_type": "stream",
          "text": [
            "Train Loss: 0.2713, Val Loss: 0.8992, Val Acc: 80.27%\n",
            "Epoch 4/25\n"
          ]
        },
        {
          "name": "stderr",
          "output_type": "stream",
          "text": [
            "Training: 100%|██████████| 172/172 [00:34<00:00,  5.00it/s]\n",
            "Validation: 100%|██████████| 57/57 [00:10<00:00,  5.24it/s]\n"
          ]
        },
        {
          "name": "stdout",
          "output_type": "stream",
          "text": [
            "Train Loss: 0.2689, Val Loss: 0.6617, Val Acc: 81.22%\n",
            "Epoch 5/25\n"
          ]
        },
        {
          "name": "stderr",
          "output_type": "stream",
          "text": [
            "Training: 100%|██████████| 172/172 [00:34<00:00,  4.99it/s]\n",
            "Validation: 100%|██████████| 57/57 [00:11<00:00,  5.17it/s]\n"
          ]
        },
        {
          "name": "stdout",
          "output_type": "stream",
          "text": [
            "Train Loss: 0.3334, Val Loss: 0.5571, Val Acc: 82.72%\n",
            "Early stopping triggered. Training stopped at epoch 5.\n"
          ]
        }
      ],
      "source": [
        "dino = DINOv2()\n",
        "optim_dino = torch.optim.Adam(dino.parameters(), lr=.01, weight_decay=.0001) # optimized hyperparameters found via experimentation\n",
        "dinov2_results = train_model_with_early_stopping(dino,\n",
        "                                                 train_dl,\n",
        "                                                 val_dl,\n",
        "                                                 loss,\n",
        "                                                 optimizer=optim_dino,\n",
        "                                                 num_epochs= 25,\n",
        "                                                 patience = 3)\n",
        "dinov2_evals = evaluate_model(dino, val_dl)"
      ]
    },
    {
      "cell_type": "code",
      "execution_count": 25,
      "metadata": {},
      "outputs": [
        {
          "data": {
            "text/plain": [
              "({'majority_accuracy': 0.8181818181818182,\n",
              "  'majority_precision': 0.8823529411764706,\n",
              "  'majority_recall': 0.7777777777777778,\n",
              "  'frame_accuracy': 0.7673446642518807},\n",
              " {'majority_accuracy': 0.9772727272727273,\n",
              "  'majority_precision': 0.9814814814814814,\n",
              "  'majority_recall': 0.9722222222222222,\n",
              "  'frame_accuracy': 0.8258567846196713},\n",
              " {'majority_accuracy': 0.8863636363636364,\n",
              "  'majority_precision': 0.8856209150326797,\n",
              "  'majority_recall': 0.8782051282051282,\n",
              "  'frame_accuracy': 0.8272499303427139})"
            ]
          },
          "execution_count": 25,
          "metadata": {},
          "output_type": "execute_result"
        }
      ],
      "source": [
        "# Validation Results\n",
        "res34_evals, res50_evals, dinov2_evals"
      ]
    },
    {
      "cell_type": "code",
      "execution_count": 15,
      "metadata": {
        "id": "QAzEbNgWSZtq"
      },
      "outputs": [],
      "source": [
        "# Save training/validation results\n",
        "\n",
        "with open('saved_output/res34_training.pkl', 'wb') as f:\n",
        "    pickle.dump(res34_results, f)\n",
        "with open('saved_output/res34_eval.pkl', 'wb') as f:\n",
        "    pickle.dump(res34_evals, f)\n",
        "\n",
        "with open('saved_output/res50_training.pkl', 'wb') as f:\n",
        "    pickle.dump(res50_results, f)\n",
        "with open('saved_output/res50_eval.pkl', 'wb') as f:\n",
        "    pickle.dump(res50_evals, f)\n",
        "\n",
        "with open('saved_output/dinov2_training.pkl', 'wb') as f:\n",
        "    pickle.dump(dinov2_results, f)\n",
        "with open('saved_output/dinov2_eval.pkl', 'wb') as f:\n",
        "    pickle.dump(dinov2_evals, f)\n",
        "\n",
        "# with open('saved_output/saved_dictionary.pkl', 'rb') as f:\n",
        "    # loaded_dict = pickle.load(f)"
      ]
    },
    {
      "cell_type": "markdown",
      "metadata": {},
      "source": [
        "#### Save Models"
      ]
    },
    {
      "cell_type": "code",
      "execution_count": 16,
      "metadata": {},
      "outputs": [],
      "source": [
        "OUT_PATH = '/home/sshad/dog-emotion-classification/saved_output'\n",
        "\n",
        "torch.save(resnet34.state_dict(), OUT_PATH + '/resnet34_trained.pkl')\n",
        "torch.save(resnet50.state_dict(), OUT_PATH + '/resnet50_trained.pkl')\n",
        "torch.save(dino.state_dict(), OUT_PATH + '/dino_trained.pkl')"
      ]
    },
    {
      "cell_type": "markdown",
      "metadata": {
        "id": "snFlLBSISZtq"
      },
      "source": [
        "## Model Evaluation"
      ]
    },
    {
      "cell_type": "code",
      "execution_count": 24,
      "metadata": {},
      "outputs": [
        {
          "data": {
            "text/plain": [
              "({'majority_accuracy': 0.8888888888888888,\n",
              "  'majority_precision': 0.8834459459459459,\n",
              "  'majority_recall': 0.803475935828877,\n",
              "  'frame_accuracy': 0.8482721382289417},\n",
              " {'majority_accuracy': 0.9111111111111111,\n",
              "  'majority_precision': 0.9027777777777777,\n",
              "  'majority_recall': 0.8489304812834224,\n",
              "  'frame_accuracy': 0.8031857451403888},\n",
              " {'majority_accuracy': 0.8222222222222222,\n",
              "  'majority_precision': 0.7762605042016807,\n",
              "  'majority_recall': 0.8516042780748663,\n",
              "  'frame_accuracy': 0.7842872570194385})"
            ]
          },
          "execution_count": 24,
          "metadata": {},
          "output_type": "execute_result"
        }
      ],
      "source": [
        "res34_test = evaluate_model(resnet34, test_dl)\n",
        "res50_test = evaluate_model(resnet50, test_dl)\n",
        "dino_test = evaluate_model(dino, test_dl)\n",
        "res34_test, res50_test, dino_test"
      ]
    },
    {
      "cell_type": "code",
      "execution_count": 27,
      "metadata": {},
      "outputs": [],
      "source": [
        "with open('saved_output/res34_test.pkl', 'wb') as f:\n",
        "    pickle.dump(res34_test, f)\n",
        "with open('saved_output/res50_test.pkl', 'wb') as f:\n",
        "    pickle.dump(res50_test, f)\n",
        "with open('saved_output/dino_test.pkl', 'wb') as f:\n",
        "    pickle.dump(dino_test, f)"
      ]
    },
    {
      "cell_type": "code",
      "execution_count": null,
      "metadata": {
        "id": "T0EHOA9wMhwh"
      },
      "outputs": [],
      "source": [
        "def load_model_state_dict(model, file_path, device='cpu'):\n",
        "    \"\"\"Load a PyTorch model's state dictionary from a file.\"\"\"\n",
        "    model.load_state_dict(torch.load(file_path, map_location=device))\n",
        "    model.eval()  # Set the model to evaluation mode\n",
        "    print(f\"Model state dictionary loaded from {file_path}\")\n",
        "    return model"
      ]
    },
    {
      "cell_type": "code",
      "execution_count": null,
      "metadata": {
        "colab": {
          "base_uri": "https://localhost:8080/"
        },
        "id": "mDh19z1EmiEs",
        "outputId": "0da9aead-b071-46bc-c808-88b3bd69744c"
      },
      "outputs": [
        {
          "name": "stdout",
          "output_type": "stream",
          "text": [
            "Model state dictionary loaded from /content/drive/MyDrive/deep_learning_project/dogs/final_trained_models/resnet34_trained_model.pkl\n"
          ]
        }
      ],
      "source": [
        "resnet34 = ResNet(version='resnet34')\n",
        "file_path = PATH + 'final_trained_models/resnet34_trained_model.pkl'\n",
        "pickle_model = load_model_state_dict(model = resnet34, file_path = file_path)"
      ]
    },
    {
      "cell_type": "code",
      "execution_count": 18,
      "metadata": {
        "id": "knvHNTrjSZtq"
      },
      "outputs": [
        {
          "data": {
            "text/plain": [
              "{'majority_accuracy': 0.8888888888888888,\n",
              " 'majority_precision': 0.8834459459459459,\n",
              " 'majority_recall': 0.803475935828877,\n",
              " 'frame_accuracy': 0.8482721382289417}"
            ]
          },
          "execution_count": 18,
          "metadata": {},
          "output_type": "execute_result"
        }
      ],
      "source": [
        "res34_test = evaluate_model(resnet34, test_dl)\n",
        "res34_test"
      ]
    },
    {
      "cell_type": "code",
      "execution_count": null,
      "metadata": {
        "colab": {
          "base_uri": "https://localhost:8080/"
        },
        "id": "HAEyV_Eh5gKw",
        "outputId": "2bb0a26a-dd86-4484-f702-46e848c39363"
      },
      "outputs": [
        {
          "name": "stderr",
          "output_type": "stream",
          "text": [
            "Downloading: \"https://download.pytorch.org/models/resnet50-11ad3fa6.pth\" to /root/.cache/torch/hub/checkpoints/resnet50-11ad3fa6.pth\n",
            "100%|██████████| 97.8M/97.8M [00:00<00:00, 139MB/s]\n"
          ]
        },
        {
          "name": "stdout",
          "output_type": "stream",
          "text": [
            "Model state dictionary loaded from /content/drive/MyDrive/dogs/resnet50_trained_model.pkl\n"
          ]
        }
      ],
      "source": [
        "resnet50 = ResNet()\n",
        "file_path = PATH + 'final_trained_models/resnet50_trained_model.pkl'\n",
        "pickle_model_resnet50 = load_model_state_dict(model = resnet50, file_path = file_path)"
      ]
    },
    {
      "cell_type": "code",
      "execution_count": null,
      "metadata": {
        "colab": {
          "base_uri": "https://localhost:8080/"
        },
        "id": "VmJlOLEU5lqx",
        "outputId": "469c074d-59bb-45c7-8443-c4d7eebc8919"
      },
      "outputs": [
        {
          "data": {
            "text/plain": [
              "{'majority_accuracy': 0.9111111111111111,\n",
              " 'majority_precision': 0.8689903846153846,\n",
              " 'majority_recall': 0.910427807486631,\n",
              " 'frame_accuracy': 0.7535097192224622}"
            ]
          },
          "execution_count": 40,
          "metadata": {},
          "output_type": "execute_result"
        }
      ],
      "source": [
        "resnet50_test = evaluate_model(pickle_model_resnet50, test_dl)\n",
        "resnet50_test"
      ]
    },
    {
      "cell_type": "code",
      "execution_count": null,
      "metadata": {
        "colab": {
          "base_uri": "https://localhost:8080/"
        },
        "id": "ISk15EIoV-4u",
        "outputId": "427553cb-6508-461e-c018-a26479175184"
      },
      "outputs": [
        {
          "name": "stdout",
          "output_type": "stream",
          "text": [
            "Model state dictionary loaded from /content/drive/MyDrive/dogs/dinov2_trained_model.pkl\n"
          ]
        }
      ],
      "source": [
        "dino = DINOv2()\n",
        "file_path = PATH + 'final_trained_models/dinov2_trained_model.pkl'\n",
        "dino_pickle = load_model_state_dict(model = dino, file_path = file_path)"
      ]
    },
    {
      "cell_type": "code",
      "execution_count": null,
      "metadata": {
        "colab": {
          "base_uri": "https://localhost:8080/"
        },
        "id": "KsENwx8b2yhE",
        "outputId": "eb7e3674-9a44-4011-d62f-49d524b9e3dd"
      },
      "outputs": [
        {
          "data": {
            "text/plain": [
              "{'majority_accuracy': 0.8444444444444444,\n",
              " 'majority_precision': 0.7952586206896552,\n",
              " 'majority_recall': 0.8663101604278074,\n",
              " 'frame_accuracy': 0.7640388768898488}"
            ]
          },
          "execution_count": 38,
          "metadata": {},
          "output_type": "execute_result"
        }
      ],
      "source": [
        "dinov2_test = evaluate_model(dino_pickle, test_dl)\n",
        "dinov2_test"
      ]
    },
    {
      "cell_type": "markdown",
      "metadata": {
        "id": "APMdtiXVAAxf"
      },
      "source": [
        "# Create Visualizations"
      ]
    },
    {
      "cell_type": "code",
      "execution_count": null,
      "metadata": {
        "id": "mJbaV2ASACZX"
      },
      "outputs": [],
      "source": [
        "training_path = PATH + 'final_model_training_metrics/res34_training.pkl'\n",
        "eval_path = PATH + 'final_model_training_metrics/res34_eval.pkl'\n",
        "\n",
        "with open(training_path, 'rb') as file:\n",
        "    res34_training = pickle.load(file)\n",
        "\n",
        "with open(eval_path, 'rb') as file:\n",
        "    res34_eval = pickle.load(file)"
      ]
    },
    {
      "cell_type": "code",
      "execution_count": null,
      "metadata": {
        "colab": {
          "base_uri": "https://localhost:8080/",
          "height": 487
        },
        "id": "2HcpJRfMBAwM",
        "outputId": "c5873a37-35d9-4936-f234-2d4f3ca73e53"
      },
      "outputs": [
        {
          "data": {
            "image/png": "[encoded data removed]",
            "text/plain": [
              "<Figure size 1000x500 with 1 Axes>"
            ]
          },
          "metadata": {},
          "output_type": "display_data"
        }
      ],
      "source": [
        "epochs = range(1, len(res34_training['Training Loss']) + 1)\n",
        "\n",
        "# Creating the plot\n",
        "plt.figure(figsize=(10, 5))\n",
        "plt.plot(epochs, res34_training['Training Loss'], color='darkgreen', label='Training Loss')\n",
        "plt.plot(epochs, res34_training['Validation Loss'], color='darkblue', label='Validation Loss')\n",
        "\n",
        "# Labeling the axes\n",
        "plt.xlabel('Epoch')\n",
        "plt.ylabel('Metric Value')\n",
        "\n",
        "# Adding title and legend\n",
        "plt.title('Model Performance Metrics per Epoch')\n",
        "plt.legend()\n",
        "\n",
        "# Customizing the spines\n",
        "ax = plt.gca()\n",
        "ax.spines['top'].set_visible(False)\n",
        "ax.spines['right'].set_visible(False)\n",
        "\n",
        "# Customizing the x-axis to show only integer labels\n",
        "ax.xaxis.set_major_locator(plt.MaxNLocator(integer=True))\n",
        "\n",
        "plt.show()\n"
      ]
    },
    {
      "cell_type": "code",
      "execution_count": null,
      "metadata": {
        "id": "jOxsKO7BUs_i"
      },
      "outputs": [],
      "source": [
        "training_path = PATH + 'final_model_training_metrics/res50_training.pkl'\n",
        "eval_path = PATH + 'final_model_training_metrics/res50_eval.pkl'\n",
        "\n",
        "with open(training_path, 'rb') as file:\n",
        "    res50_training = pickle.load(file)\n",
        "\n",
        "with open(eval_path, 'rb') as file:\n",
        "    res50_eval = pickle.load(file)"
      ]
    },
    {
      "cell_type": "code",
      "execution_count": null,
      "metadata": {
        "colab": {
          "base_uri": "https://localhost:8080/"
        },
        "id": "UL5aBgXpWNLN",
        "outputId": "4f103cf2-bab7-42fc-d5a9-3c42fc074092"
      },
      "outputs": [
        {
          "data": {
            "text/plain": [
              "{'Training Loss': [0.38395055942934614,\n",
              "  0.27441424075886506,\n",
              "  0.27313350683737486,\n",
              "  0.26210468731317893,\n",
              "  0.23888596286950434,\n",
              "  0.233060633649562,\n",
              "  0.24975331859981306],\n",
              " 'Validation Loss': [0.3872579510380013,\n",
              "  0.42268155899244486,\n",
              "  0.4417495851099541,\n",
              "  0.373097956363256,\n",
              "  0.3875547435563333,\n",
              "  0.48096521756349414,\n",
              "  0.3927205847677463],\n",
              " 'Validation Accuracy': [83.81164669824463,\n",
              "  82.44636388966286,\n",
              "  80.07801616049039,\n",
              "  84.14600167177487,\n",
              "  83.53301755363611,\n",
              "  79.26999164112566,\n",
              "  83.72805795486208]}"
            ]
          },
          "execution_count": 27,
          "metadata": {},
          "output_type": "execute_result"
        }
      ],
      "source": [
        "res50_training"
      ]
    },
    {
      "cell_type": "code",
      "execution_count": null,
      "metadata": {
        "colab": {
          "base_uri": "https://localhost:8080/",
          "height": 487
        },
        "id": "-onWSMQ5DY9g",
        "outputId": "e43a5ac6-cabe-465a-a42c-5bb093b70cc1"
      },
      "outputs": [
        {
          "data": {
            "image/png": "[encoded data removed]",
            "text/plain": [
              "<Figure size 1000x500 with 1 Axes>"
            ]
          },
          "metadata": {},
          "output_type": "display_data"
        }
      ],
      "source": [
        "epochs = range(1, len(res50_training['Training Loss']) + 1)\n",
        "\n",
        "# Creating the plot\n",
        "plt.figure(figsize=(10, 5))\n",
        "plt.plot(epochs, res50_training['Training Loss'], color='darkgreen', label='Training Loss')\n",
        "plt.plot(epochs, res50_training['Validation Loss'], color='darkblue', label='Validation Loss')\n",
        "\n",
        "# Labeling the axes\n",
        "plt.xlabel('Epoch')\n",
        "plt.ylabel('Metric Value')\n",
        "\n",
        "# Adding title and legend\n",
        "plt.title('Model Performance Metrics per Epoch')\n",
        "plt.legend()\n",
        "\n",
        "# Customizing the spines\n",
        "ax = plt.gca()\n",
        "ax.spines['top'].set_visible(False)\n",
        "ax.spines['right'].set_visible(False)\n",
        "\n",
        "# Customizing the x-axis to show only integer labels\n",
        "ax.xaxis.set_major_locator(plt.MaxNLocator(integer=True))\n",
        "\n",
        "plt.show()"
      ]
    },
    {
      "cell_type": "code",
      "execution_count": null,
      "metadata": {
        "id": "2P0YjXgJd6ww"
      },
      "outputs": [],
      "source": [
        "training_path = PATH + 'final_model_training_metrics/dinov2_training.pkl'\n",
        "eval_path = PATH + 'final_model_training_metrics/dinov2_eval.pkl'\n",
        "\n",
        "with open(training_path, 'rb') as file:\n",
        "    dino_training = pickle.load(file)\n",
        "\n",
        "with open(eval_path, 'rb') as file:\n",
        "    dino_eval = pickle.load(file)"
      ]
    },
    {
      "cell_type": "code",
      "execution_count": null,
      "metadata": {
        "id": "JQlSfe1Rd_nl"
      },
      "outputs": [],
      "source": [
        "dino_training"
      ]
    }
  ],
  "metadata": {
    "accelerator": "GPU",
    "colab": {
      "gpuType": "T4",
      "provenance": []
    },
    "kernelspec": {
      "display_name": "Python 3",
      "language": "python",
      "name": "python3"
    },
    "language_info": {
      "codemirror_mode": {
        "name": "ipython",
        "version": 3
      },
      "file_extension": ".py",
      "mimetype": "text/x-python",
      "name": "python",
      "nbconvert_exporter": "python",
      "pygments_lexer": "ipython3",
      "version": "3.11.8"
    },
    "widgets": {
      "application/vnd.jupyter.widget-state+json": {
        "11a93f8bc54f41e4add8726a04f07384": {
          "model_module": "@jupyter-widgets/controls",
          "model_module_version": "1.5.0",
          "model_name": "ProgressStyleModel",
          "state": {
            "_model_module": "@jupyter-widgets/controls",
            "_model_module_version": "1.5.0",
            "_model_name": "ProgressStyleModel",
            "_view_count": null,
            "_view_module": "@jupyter-widgets/base",
            "_view_module_version": "1.2.0",
            "_view_name": "StyleView",
            "bar_color": null,
            "description_width": ""
          }
        },
        "14edf37d3be74f1fac280b3be3163f87": {
          "model_module": "@jupyter-widgets/base",
          "model_module_version": "1.2.0",
          "model_name": "LayoutModel",
          "state": {
            "_model_module": "@jupyter-widgets/base",
            "_model_module_version": "1.2.0",
            "_model_name": "LayoutModel",
            "_view_count": null,
            "_view_module": "@jupyter-widgets/base",
            "_view_module_version": "1.2.0",
            "_view_name": "LayoutView",
            "align_content": null,
            "align_items": null,
            "align_self": null,
            "border": null,
            "bottom": null,
            "display": null,
            "flex": null,
            "flex_flow": null,
            "grid_area": null,
            "grid_auto_columns": null,
            "grid_auto_flow": null,
            "grid_auto_rows": null,
            "grid_column": null,
            "grid_gap": null,
            "grid_row": null,
            "grid_template_areas": null,
            "grid_template_columns": null,
            "grid_template_rows": null,
            "height": null,
            "justify_content": null,
            "justify_items": null,
            "left": null,
            "margin": null,
            "max_height": null,
            "max_width": null,
            "min_height": null,
            "min_width": null,
            "object_fit": null,
            "object_position": null,
            "order": null,
            "overflow": null,
            "overflow_x": null,
            "overflow_y": null,
            "padding": null,
            "right": null,
            "top": null,
            "visibility": null,
            "width": null
          }
        },
        "15bda40ada374184835d722f44befa97": {
          "model_module": "@jupyter-widgets/base",
          "model_module_version": "1.2.0",
          "model_name": "LayoutModel",
          "state": {
            "_model_module": "@jupyter-widgets/base",
            "_model_module_version": "1.2.0",
            "_model_name": "LayoutModel",
            "_view_count": null,
            "_view_module": "@jupyter-widgets/base",
            "_view_module_version": "1.2.0",
            "_view_name": "LayoutView",
            "align_content": null,
            "align_items": null,
            "align_self": null,
            "border": null,
            "bottom": null,
            "display": null,
            "flex": null,
            "flex_flow": null,
            "grid_area": null,
            "grid_auto_columns": null,
            "grid_auto_flow": null,
            "grid_auto_rows": null,
            "grid_column": null,
            "grid_gap": null,
            "grid_row": null,
            "grid_template_areas": null,
            "grid_template_columns": null,
            "grid_template_rows": null,
            "height": null,
            "justify_content": null,
            "justify_items": null,
            "left": null,
            "margin": null,
            "max_height": null,
            "max_width": null,
            "min_height": null,
            "min_width": null,
            "object_fit": null,
            "object_position": null,
            "order": null,
            "overflow": null,
            "overflow_x": null,
            "overflow_y": null,
            "padding": null,
            "right": null,
            "top": null,
            "visibility": null,
            "width": null
          }
        },
        "165695f9be4247f590299def25155560": {
          "model_module": "@jupyter-widgets/base",
          "model_module_version": "1.2.0",
          "model_name": "LayoutModel",
          "state": {
            "_model_module": "@jupyter-widgets/base",
            "_model_module_version": "1.2.0",
            "_model_name": "LayoutModel",
            "_view_count": null,
            "_view_module": "@jupyter-widgets/base",
            "_view_module_version": "1.2.0",
            "_view_name": "LayoutView",
            "align_content": null,
            "align_items": null,
            "align_self": null,
            "border": null,
            "bottom": null,
            "display": null,
            "flex": null,
            "flex_flow": null,
            "grid_area": null,
            "grid_auto_columns": null,
            "grid_auto_flow": null,
            "grid_auto_rows": null,
            "grid_column": null,
            "grid_gap": null,
            "grid_row": null,
            "grid_template_areas": null,
            "grid_template_columns": null,
            "grid_template_rows": null,
            "height": null,
            "justify_content": null,
            "justify_items": null,
            "left": null,
            "margin": null,
            "max_height": null,
            "max_width": null,
            "min_height": null,
            "min_width": null,
            "object_fit": null,
            "object_position": null,
            "order": null,
            "overflow": null,
            "overflow_x": null,
            "overflow_y": null,
            "padding": null,
            "right": null,
            "top": null,
            "visibility": null,
            "width": null
          }
        },
        "1c9ddfceb3c64aecb1675e6da0f32e0f": {
          "model_module": "@jupyter-widgets/controls",
          "model_module_version": "1.5.0",
          "model_name": "HBoxModel",
          "state": {
            "_dom_classes": [],
            "_model_module": "@jupyter-widgets/controls",
            "_model_module_version": "1.5.0",
            "_model_name": "HBoxModel",
            "_view_count": null,
            "_view_module": "@jupyter-widgets/controls",
            "_view_module_version": "1.5.0",
            "_view_name": "HBoxView",
            "box_style": "",
            "children": [
              "IPY_MODEL_239ef24037254618808c2736ff48a5be",
              "IPY_MODEL_f25dc41e24074a73badf3c26906f1fb0",
              "IPY_MODEL_bf96b33c37fd441194c211764d2006da"
            ],
            "layout": "IPY_MODEL_64aa47dac23b4754bc0c207bab921efc"
          }
        },
        "22fddbadbb714d76a5bdbb013444f165": {
          "model_module": "@jupyter-widgets/controls",
          "model_module_version": "1.5.0",
          "model_name": "HBoxModel",
          "state": {
            "_dom_classes": [],
            "_model_module": "@jupyter-widgets/controls",
            "_model_module_version": "1.5.0",
            "_model_name": "HBoxModel",
            "_view_count": null,
            "_view_module": "@jupyter-widgets/controls",
            "_view_module_version": "1.5.0",
            "_view_name": "HBoxView",
            "box_style": "",
            "children": [
              "IPY_MODEL_332424614d074d5781d307937fce5216",
              "IPY_MODEL_e27fe20541ea486daec5bcc8ef337845",
              "IPY_MODEL_e893cfae6b2c4031a3735d98bc41767a"
            ],
            "layout": "IPY_MODEL_7a4278451f104821b28c7b361ad40b76"
          }
        },
        "239ef24037254618808c2736ff48a5be": {
          "model_module": "@jupyter-widgets/controls",
          "model_module_version": "1.5.0",
          "model_name": "HTMLModel",
          "state": {
            "_dom_classes": [],
            "_model_module": "@jupyter-widgets/controls",
            "_model_module_version": "1.5.0",
            "_model_name": "HTMLModel",
            "_view_count": null,
            "_view_module": "@jupyter-widgets/controls",
            "_view_module_version": "1.5.0",
            "_view_name": "HTMLView",
            "description": "",
            "description_tooltip": null,
            "layout": "IPY_MODEL_583a3e6ccebf4c86a79a4a9a32964ed9",
            "placeholder": "​",
            "style": "IPY_MODEL_38b76a6ec07d442f8823cd576b20d459",
            "value": "config.json: 100%"
          }
        },
        "3007932a9a0a4664b3ac7784c05d0ee7": {
          "model_module": "@jupyter-widgets/controls",
          "model_module_version": "1.5.0",
          "model_name": "ProgressStyleModel",
          "state": {
            "_model_module": "@jupyter-widgets/controls",
            "_model_module_version": "1.5.0",
            "_model_name": "ProgressStyleModel",
            "_view_count": null,
            "_view_module": "@jupyter-widgets/base",
            "_view_module_version": "1.2.0",
            "_view_name": "StyleView",
            "bar_color": null,
            "description_width": ""
          }
        },
        "332424614d074d5781d307937fce5216": {
          "model_module": "@jupyter-widgets/controls",
          "model_module_version": "1.5.0",
          "model_name": "HTMLModel",
          "state": {
            "_dom_classes": [],
            "_model_module": "@jupyter-widgets/controls",
            "_model_module_version": "1.5.0",
            "_model_name": "HTMLModel",
            "_view_count": null,
            "_view_module": "@jupyter-widgets/controls",
            "_view_module_version": "1.5.0",
            "_view_name": "HTMLView",
            "description": "",
            "description_tooltip": null,
            "layout": "IPY_MODEL_14edf37d3be74f1fac280b3be3163f87",
            "placeholder": "​",
            "style": "IPY_MODEL_4e61b90e9a434fa9a0c264c402ab8f61",
            "value": "pytorch_model.bin: 100%"
          }
        },
        "35784ac5e346457eae79433025c3fb21": {
          "model_module": "@jupyter-widgets/controls",
          "model_module_version": "1.5.0",
          "model_name": "DescriptionStyleModel",
          "state": {
            "_model_module": "@jupyter-widgets/controls",
            "_model_module_version": "1.5.0",
            "_model_name": "DescriptionStyleModel",
            "_view_count": null,
            "_view_module": "@jupyter-widgets/base",
            "_view_module_version": "1.2.0",
            "_view_name": "StyleView",
            "description_width": ""
          }
        },
        "38b76a6ec07d442f8823cd576b20d459": {
          "model_module": "@jupyter-widgets/controls",
          "model_module_version": "1.5.0",
          "model_name": "DescriptionStyleModel",
          "state": {
            "_model_module": "@jupyter-widgets/controls",
            "_model_module_version": "1.5.0",
            "_model_name": "DescriptionStyleModel",
            "_view_count": null,
            "_view_module": "@jupyter-widgets/base",
            "_view_module_version": "1.2.0",
            "_view_name": "StyleView",
            "description_width": ""
          }
        },
        "4e61b90e9a434fa9a0c264c402ab8f61": {
          "model_module": "@jupyter-widgets/controls",
          "model_module_version": "1.5.0",
          "model_name": "DescriptionStyleModel",
          "state": {
            "_model_module": "@jupyter-widgets/controls",
            "_model_module_version": "1.5.0",
            "_model_name": "DescriptionStyleModel",
            "_view_count": null,
            "_view_module": "@jupyter-widgets/base",
            "_view_module_version": "1.2.0",
            "_view_name": "StyleView",
            "description_width": ""
          }
        },
        "583a3e6ccebf4c86a79a4a9a32964ed9": {
          "model_module": "@jupyter-widgets/base",
          "model_module_version": "1.2.0",
          "model_name": "LayoutModel",
          "state": {
            "_model_module": "@jupyter-widgets/base",
            "_model_module_version": "1.2.0",
            "_model_name": "LayoutModel",
            "_view_count": null,
            "_view_module": "@jupyter-widgets/base",
            "_view_module_version": "1.2.0",
            "_view_name": "LayoutView",
            "align_content": null,
            "align_items": null,
            "align_self": null,
            "border": null,
            "bottom": null,
            "display": null,
            "flex": null,
            "flex_flow": null,
            "grid_area": null,
            "grid_auto_columns": null,
            "grid_auto_flow": null,
            "grid_auto_rows": null,
            "grid_column": null,
            "grid_gap": null,
            "grid_row": null,
            "grid_template_areas": null,
            "grid_template_columns": null,
            "grid_template_rows": null,
            "height": null,
            "justify_content": null,
            "justify_items": null,
            "left": null,
            "margin": null,
            "max_height": null,
            "max_width": null,
            "min_height": null,
            "min_width": null,
            "object_fit": null,
            "object_position": null,
            "order": null,
            "overflow": null,
            "overflow_x": null,
            "overflow_y": null,
            "padding": null,
            "right": null,
            "top": null,
            "visibility": null,
            "width": null
          }
        },
        "5f84af7aaf80482a82127269de34fa93": {
          "model_module": "@jupyter-widgets/controls",
          "model_module_version": "1.5.0",
          "model_name": "DescriptionStyleModel",
          "state": {
            "_model_module": "@jupyter-widgets/controls",
            "_model_module_version": "1.5.0",
            "_model_name": "DescriptionStyleModel",
            "_view_count": null,
            "_view_module": "@jupyter-widgets/base",
            "_view_module_version": "1.2.0",
            "_view_name": "StyleView",
            "description_width": ""
          }
        },
        "64aa47dac23b4754bc0c207bab921efc": {
          "model_module": "@jupyter-widgets/base",
          "model_module_version": "1.2.0",
          "model_name": "LayoutModel",
          "state": {
            "_model_module": "@jupyter-widgets/base",
            "_model_module_version": "1.2.0",
            "_model_name": "LayoutModel",
            "_view_count": null,
            "_view_module": "@jupyter-widgets/base",
            "_view_module_version": "1.2.0",
            "_view_name": "LayoutView",
            "align_content": null,
            "align_items": null,
            "align_self": null,
            "border": null,
            "bottom": null,
            "display": null,
            "flex": null,
            "flex_flow": null,
            "grid_area": null,
            "grid_auto_columns": null,
            "grid_auto_flow": null,
            "grid_auto_rows": null,
            "grid_column": null,
            "grid_gap": null,
            "grid_row": null,
            "grid_template_areas": null,
            "grid_template_columns": null,
            "grid_template_rows": null,
            "height": null,
            "justify_content": null,
            "justify_items": null,
            "left": null,
            "margin": null,
            "max_height": null,
            "max_width": null,
            "min_height": null,
            "min_width": null,
            "object_fit": null,
            "object_position": null,
            "order": null,
            "overflow": null,
            "overflow_x": null,
            "overflow_y": null,
            "padding": null,
            "right": null,
            "top": null,
            "visibility": null,
            "width": null
          }
        },
        "7a4278451f104821b28c7b361ad40b76": {
          "model_module": "@jupyter-widgets/base",
          "model_module_version": "1.2.0",
          "model_name": "LayoutModel",
          "state": {
            "_model_module": "@jupyter-widgets/base",
            "_model_module_version": "1.2.0",
            "_model_name": "LayoutModel",
            "_view_count": null,
            "_view_module": "@jupyter-widgets/base",
            "_view_module_version": "1.2.0",
            "_view_name": "LayoutView",
            "align_content": null,
            "align_items": null,
            "align_self": null,
            "border": null,
            "bottom": null,
            "display": null,
            "flex": null,
            "flex_flow": null,
            "grid_area": null,
            "grid_auto_columns": null,
            "grid_auto_flow": null,
            "grid_auto_rows": null,
            "grid_column": null,
            "grid_gap": null,
            "grid_row": null,
            "grid_template_areas": null,
            "grid_template_columns": null,
            "grid_template_rows": null,
            "height": null,
            "justify_content": null,
            "justify_items": null,
            "left": null,
            "margin": null,
            "max_height": null,
            "max_width": null,
            "min_height": null,
            "min_width": null,
            "object_fit": null,
            "object_position": null,
            "order": null,
            "overflow": null,
            "overflow_x": null,
            "overflow_y": null,
            "padding": null,
            "right": null,
            "top": null,
            "visibility": null,
            "width": null
          }
        },
        "bf96b33c37fd441194c211764d2006da": {
          "model_module": "@jupyter-widgets/controls",
          "model_module_version": "1.5.0",
          "model_name": "HTMLModel",
          "state": {
            "_dom_classes": [],
            "_model_module": "@jupyter-widgets/controls",
            "_model_module_version": "1.5.0",
            "_model_name": "HTMLModel",
            "_view_count": null,
            "_view_module": "@jupyter-widgets/controls",
            "_view_module_version": "1.5.0",
            "_view_name": "HTMLView",
            "description": "",
            "description_tooltip": null,
            "layout": "IPY_MODEL_165695f9be4247f590299def25155560",
            "placeholder": "​",
            "style": "IPY_MODEL_5f84af7aaf80482a82127269de34fa93",
            "value": " 453/453 [00:00&lt;00:00, 27.4kB/s]"
          }
        },
        "d96f86529b964fd7913a865b2670c404": {
          "model_module": "@jupyter-widgets/base",
          "model_module_version": "1.2.0",
          "model_name": "LayoutModel",
          "state": {
            "_model_module": "@jupyter-widgets/base",
            "_model_module_version": "1.2.0",
            "_model_name": "LayoutModel",
            "_view_count": null,
            "_view_module": "@jupyter-widgets/base",
            "_view_module_version": "1.2.0",
            "_view_name": "LayoutView",
            "align_content": null,
            "align_items": null,
            "align_self": null,
            "border": null,
            "bottom": null,
            "display": null,
            "flex": null,
            "flex_flow": null,
            "grid_area": null,
            "grid_auto_columns": null,
            "grid_auto_flow": null,
            "grid_auto_rows": null,
            "grid_column": null,
            "grid_gap": null,
            "grid_row": null,
            "grid_template_areas": null,
            "grid_template_columns": null,
            "grid_template_rows": null,
            "height": null,
            "justify_content": null,
            "justify_items": null,
            "left": null,
            "margin": null,
            "max_height": null,
            "max_width": null,
            "min_height": null,
            "min_width": null,
            "object_fit": null,
            "object_position": null,
            "order": null,
            "overflow": null,
            "overflow_x": null,
            "overflow_y": null,
            "padding": null,
            "right": null,
            "top": null,
            "visibility": null,
            "width": null
          }
        },
        "e054495b011c4037b5e94629fab731b6": {
          "model_module": "@jupyter-widgets/base",
          "model_module_version": "1.2.0",
          "model_name": "LayoutModel",
          "state": {
            "_model_module": "@jupyter-widgets/base",
            "_model_module_version": "1.2.0",
            "_model_name": "LayoutModel",
            "_view_count": null,
            "_view_module": "@jupyter-widgets/base",
            "_view_module_version": "1.2.0",
            "_view_name": "LayoutView",
            "align_content": null,
            "align_items": null,
            "align_self": null,
            "border": null,
            "bottom": null,
            "display": null,
            "flex": null,
            "flex_flow": null,
            "grid_area": null,
            "grid_auto_columns": null,
            "grid_auto_flow": null,
            "grid_auto_rows": null,
            "grid_column": null,
            "grid_gap": null,
            "grid_row": null,
            "grid_template_areas": null,
            "grid_template_columns": null,
            "grid_template_rows": null,
            "height": null,
            "justify_content": null,
            "justify_items": null,
            "left": null,
            "margin": null,
            "max_height": null,
            "max_width": null,
            "min_height": null,
            "min_width": null,
            "object_fit": null,
            "object_position": null,
            "order": null,
            "overflow": null,
            "overflow_x": null,
            "overflow_y": null,
            "padding": null,
            "right": null,
            "top": null,
            "visibility": null,
            "width": null
          }
        },
        "e27fe20541ea486daec5bcc8ef337845": {
          "model_module": "@jupyter-widgets/controls",
          "model_module_version": "1.5.0",
          "model_name": "FloatProgressModel",
          "state": {
            "_dom_classes": [],
            "_model_module": "@jupyter-widgets/controls",
            "_model_module_version": "1.5.0",
            "_model_name": "FloatProgressModel",
            "_view_count": null,
            "_view_module": "@jupyter-widgets/controls",
            "_view_module_version": "1.5.0",
            "_view_name": "ProgressView",
            "bar_style": "success",
            "description": "",
            "description_tooltip": null,
            "layout": "IPY_MODEL_15bda40ada374184835d722f44befa97",
            "max": 86736629,
            "min": 0,
            "orientation": "horizontal",
            "style": "IPY_MODEL_11a93f8bc54f41e4add8726a04f07384",
            "value": 86736629
          }
        },
        "e893cfae6b2c4031a3735d98bc41767a": {
          "model_module": "@jupyter-widgets/controls",
          "model_module_version": "1.5.0",
          "model_name": "HTMLModel",
          "state": {
            "_dom_classes": [],
            "_model_module": "@jupyter-widgets/controls",
            "_model_module_version": "1.5.0",
            "_model_name": "HTMLModel",
            "_view_count": null,
            "_view_module": "@jupyter-widgets/controls",
            "_view_module_version": "1.5.0",
            "_view_name": "HTMLView",
            "description": "",
            "description_tooltip": null,
            "layout": "IPY_MODEL_d96f86529b964fd7913a865b2670c404",
            "placeholder": "​",
            "style": "IPY_MODEL_35784ac5e346457eae79433025c3fb21",
            "value": " 86.7M/86.7M [00:01&lt;00:00, 56.7MB/s]"
          }
        },
        "f25dc41e24074a73badf3c26906f1fb0": {
          "model_module": "@jupyter-widgets/controls",
          "model_module_version": "1.5.0",
          "model_name": "FloatProgressModel",
          "state": {
            "_dom_classes": [],
            "_model_module": "@jupyter-widgets/controls",
            "_model_module_version": "1.5.0",
            "_model_name": "FloatProgressModel",
            "_view_count": null,
            "_view_module": "@jupyter-widgets/controls",
            "_view_module_version": "1.5.0",
            "_view_name": "ProgressView",
            "bar_style": "success",
            "description": "",
            "description_tooltip": null,
            "layout": "IPY_MODEL_e054495b011c4037b5e94629fab731b6",
            "max": 453,
            "min": 0,
            "orientation": "horizontal",
            "style": "IPY_MODEL_3007932a9a0a4664b3ac7784c05d0ee7",
            "value": 453
          }
        }
      }
    }
  },
  "nbformat": 4,
  "nbformat_minor": 0
}
